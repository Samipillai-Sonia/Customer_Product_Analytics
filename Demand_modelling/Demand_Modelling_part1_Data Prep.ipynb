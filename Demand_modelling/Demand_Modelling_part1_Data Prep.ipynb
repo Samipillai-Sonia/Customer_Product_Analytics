{
 "cells": [
  {
   "cell_type": "code",
   "execution_count": 1,
   "metadata": {
    "ExecuteTime": {
     "end_time": "2021-01-09T19:39:06.444149Z",
     "start_time": "2021-01-09T19:39:05.406656Z"
    }
   },
   "outputs": [],
   "source": [
    "# Load Packages\n",
    "\n",
    "import pandas as pd\n",
    "import numpy as np\n",
    "import matplotlib.pyplot as plt\n",
    "import seaborn as sns\n",
    "sns.set()\n",
    "\n",
    "import os\n",
    "import time\n",
    "import gc"
   ]
  },
  {
   "cell_type": "code",
   "execution_count": 2,
   "metadata": {
    "ExecuteTime": {
     "end_time": "2021-01-09T19:39:07.130304Z",
     "start_time": "2021-01-09T19:39:06.924149Z"
    }
   },
   "outputs": [],
   "source": [
    "# Load data\n",
    "dat_train = pd.read_csv(os.getcwd()+'\\\\sales_dir\\\\train.csv')\n",
    "dat_stores = pd.read_csv(os.getcwd()+'\\\\sales_dir\\\\stores.csv')\n",
    "dat_features = pd.read_csv(os.getcwd()+'\\\\sales_dir\\\\features.csv')"
   ]
  },
  {
   "cell_type": "code",
   "execution_count": 3,
   "metadata": {
    "ExecuteTime": {
     "end_time": "2021-01-09T19:39:07.989600Z",
     "start_time": "2021-01-09T19:39:07.964624Z"
    }
   },
   "outputs": [
    {
     "name": "stdout",
     "output_type": "stream",
     "text": [
      "   Store  Dept        Date  Weekly_Sales  IsHoliday\n",
      "0      1     1  2010-02-05      24924.50      False\n",
      "1      1     1  2010-02-12      46039.49       True\n",
      "2      1     1  2010-02-19      41595.55      False\n",
      "3      1     1  2010-02-26      19403.54      False\n",
      "4      1     1  2010-03-05      21827.90      False\n",
      "---------\n",
      "Index(['Store', 'Dept', 'Date', 'Weekly_Sales', 'IsHoliday'], dtype='object')\n",
      "Store             int64\n",
      "Dept              int64\n",
      "Date             object\n",
      "Weekly_Sales    float64\n",
      "IsHoliday          bool\n",
      "dtype: object\n",
      "--------------\n",
      "   Store Type    Size\n",
      "0      1    A  151315\n",
      "1      2    A  202307\n",
      "2      3    B   37392\n",
      "3      4    A  205863\n",
      "4      5    B   34875\n",
      "---------\n",
      "Index(['Store', 'Type', 'Size'], dtype='object')\n",
      "Store     int64\n",
      "Type     object\n",
      "Size      int64\n",
      "dtype: object\n",
      "--------------\n",
      "   Store        Date  Temperature  Fuel_Price  MarkDown1  MarkDown2  \\\n",
      "0      1  2010-02-05        42.31       2.572        NaN        NaN   \n",
      "1      1  2010-02-12        38.51       2.548        NaN        NaN   \n",
      "2      1  2010-02-19        39.93       2.514        NaN        NaN   \n",
      "3      1  2010-02-26        46.63       2.561        NaN        NaN   \n",
      "4      1  2010-03-05        46.50       2.625        NaN        NaN   \n",
      "\n",
      "   MarkDown3  MarkDown4  MarkDown5         CPI  Unemployment  IsHoliday  \n",
      "0        NaN        NaN        NaN  211.096358         8.106      False  \n",
      "1        NaN        NaN        NaN  211.242170         8.106       True  \n",
      "2        NaN        NaN        NaN  211.289143         8.106      False  \n",
      "3        NaN        NaN        NaN  211.319643         8.106      False  \n",
      "4        NaN        NaN        NaN  211.350143         8.106      False  \n",
      "---------\n",
      "Index(['Store', 'Date', 'Temperature', 'Fuel_Price', 'MarkDown1', 'MarkDown2',\n",
      "       'MarkDown3', 'MarkDown4', 'MarkDown5', 'CPI', 'Unemployment',\n",
      "       'IsHoliday'],\n",
      "      dtype='object')\n",
      "Store             int64\n",
      "Date             object\n",
      "Temperature     float64\n",
      "Fuel_Price      float64\n",
      "MarkDown1       float64\n",
      "MarkDown2       float64\n",
      "MarkDown3       float64\n",
      "MarkDown4       float64\n",
      "MarkDown5       float64\n",
      "CPI             float64\n",
      "Unemployment    float64\n",
      "IsHoliday          bool\n",
      "dtype: object\n",
      "--------------\n"
     ]
    }
   ],
   "source": [
    "# Understand dataset structure\n",
    "\n",
    "dataset_names = ['dat_train', 'dat_stores', 'dat_features']\n",
    "datasets = [dat_train, dat_stores, dat_features]\n",
    "for dataset in datasets:\n",
    "    print(dataset.head())\n",
    "    print('---------')\n",
    "    print(dataset.columns)\n",
    "    print(dataset.dtypes)\n",
    "    print('--------------')"
   ]
  },
  {
   "cell_type": "code",
   "execution_count": 4,
   "metadata": {
    "ExecuteTime": {
     "end_time": "2021-01-09T19:39:36.186582Z",
     "start_time": "2021-01-09T19:39:36.120774Z"
    }
   },
   "outputs": [],
   "source": [
    "# Since we will be merging on date column as well, first lets convert those\n",
    "\n",
    "dat_train['Date'] = pd.to_datetime(dat_train['Date'])\n",
    "dat_features['Date'] = pd.to_datetime(dat_features['Date'])"
   ]
  },
  {
   "cell_type": "code",
   "execution_count": 5,
   "metadata": {
    "ExecuteTime": {
     "end_time": "2021-01-09T19:39:37.202649Z",
     "start_time": "2021-01-09T19:39:36.985495Z"
    }
   },
   "outputs": [],
   "source": [
    "# Merge datasets\n",
    "\n",
    "dat_train_f = dat_train.merge(dat_features,how = 'left', on = ['Store', 'Date', 'IsHoliday'])\n",
    "dat_train_fs = dat_train_f.merge(dat_stores,how = 'left', on = ['Store'])"
   ]
  },
  {
   "cell_type": "code",
   "execution_count": 6,
   "metadata": {
    "ExecuteTime": {
     "end_time": "2021-01-09T19:39:38.377592Z",
     "start_time": "2021-01-09T19:39:38.369592Z"
    }
   },
   "outputs": [],
   "source": [
    "# Remove the unwanted datasets to freeup space in notebook\n",
    "dat_train = None\n",
    "dat_train_f = None\n",
    "dat_features = None\n",
    "dat_stores = None"
   ]
  },
  {
   "cell_type": "code",
   "execution_count": 7,
   "metadata": {
    "ExecuteTime": {
     "end_time": "2021-01-09T19:39:49.294779Z",
     "start_time": "2021-01-09T19:39:39.495789Z"
    }
   },
   "outputs": [],
   "source": [
    "# IsHoliday # Convert boolean to int\n",
    "\n",
    "dat_train_fs = dat_train_fs.applymap(lambda x:0 if x==False else x)\n",
    "dat_train_fs = dat_train_fs.applymap(lambda x:1 if x==True else x)"
   ]
  },
  {
   "cell_type": "code",
   "execution_count": 8,
   "metadata": {
    "ExecuteTime": {
     "end_time": "2021-01-09T19:39:49.612776Z",
     "start_time": "2021-01-09T19:39:49.498784Z"
    }
   },
   "outputs": [],
   "source": [
    "# Type # Dummy code categorical variable\n",
    "\n",
    "dat_train_fs = pd.get_dummies(dat_train_fs, columns = ['Type'])"
   ]
  },
  {
   "cell_type": "code",
   "execution_count": 9,
   "metadata": {
    "ExecuteTime": {
     "end_time": "2021-01-09T19:39:55.246204Z",
     "start_time": "2021-01-09T19:39:55.240208Z"
    }
   },
   "outputs": [],
   "source": [
    "# check for missing data\n",
    "def check_nan_inf(df):\n",
    "    checks_df = pd.DataFrame(df.isnull().sum()).T\n",
    "    checks_df = checks_df.append(pd.DataFrame(df.isin([np.inf,-np.inf]).sum()).T)\n",
    "    checks_df = checks_df.append(pd.DataFrame(df.isnull().sum()/df.shape[0]).T)\n",
    "    checks_df['names'] = ['nulls','infs','%nulls']\n",
    "    checks_df = checks_df.set_index('names')\n",
    "    return checks_df"
   ]
  },
  {
   "cell_type": "code",
   "execution_count": 10,
   "metadata": {
    "ExecuteTime": {
     "end_time": "2021-01-09T19:39:58.229195Z",
     "start_time": "2021-01-09T19:39:56.217027Z"
    }
   },
   "outputs": [
    {
     "name": "stdout",
     "output_type": "stream",
     "text": [
      "Wall time: 0 ns\n"
     ]
    }
   ],
   "source": [
    "%time\n",
    "checks_train = check_nan_inf(dat_train_fs)"
   ]
  },
  {
   "cell_type": "code",
   "execution_count": 11,
   "metadata": {
    "ExecuteTime": {
     "end_time": "2021-01-09T19:40:02.424866Z",
     "start_time": "2021-01-09T19:40:02.401867Z"
    }
   },
   "outputs": [
    {
     "data": {
      "text/html": [
       "<div>\n",
       "<style scoped>\n",
       "    .dataframe tbody tr th:only-of-type {\n",
       "        vertical-align: middle;\n",
       "    }\n",
       "\n",
       "    .dataframe tbody tr th {\n",
       "        vertical-align: top;\n",
       "    }\n",
       "\n",
       "    .dataframe thead th {\n",
       "        text-align: right;\n",
       "    }\n",
       "</style>\n",
       "<table border=\"1\" class=\"dataframe\">\n",
       "  <thead>\n",
       "    <tr style=\"text-align: right;\">\n",
       "      <th></th>\n",
       "      <th>Store</th>\n",
       "      <th>Dept</th>\n",
       "      <th>Date</th>\n",
       "      <th>Weekly_Sales</th>\n",
       "      <th>IsHoliday</th>\n",
       "      <th>Temperature</th>\n",
       "      <th>Fuel_Price</th>\n",
       "      <th>MarkDown1</th>\n",
       "      <th>MarkDown2</th>\n",
       "      <th>MarkDown3</th>\n",
       "      <th>MarkDown4</th>\n",
       "      <th>MarkDown5</th>\n",
       "      <th>CPI</th>\n",
       "      <th>Unemployment</th>\n",
       "      <th>Size</th>\n",
       "      <th>Type_A</th>\n",
       "      <th>Type_B</th>\n",
       "      <th>Type_C</th>\n",
       "    </tr>\n",
       "    <tr>\n",
       "      <th>names</th>\n",
       "      <th></th>\n",
       "      <th></th>\n",
       "      <th></th>\n",
       "      <th></th>\n",
       "      <th></th>\n",
       "      <th></th>\n",
       "      <th></th>\n",
       "      <th></th>\n",
       "      <th></th>\n",
       "      <th></th>\n",
       "      <th></th>\n",
       "      <th></th>\n",
       "      <th></th>\n",
       "      <th></th>\n",
       "      <th></th>\n",
       "      <th></th>\n",
       "      <th></th>\n",
       "      <th></th>\n",
       "    </tr>\n",
       "  </thead>\n",
       "  <tbody>\n",
       "    <tr>\n",
       "      <th>nulls</th>\n",
       "      <td>0.0</td>\n",
       "      <td>0.0</td>\n",
       "      <td>0.0</td>\n",
       "      <td>0.0</td>\n",
       "      <td>0.0</td>\n",
       "      <td>0.0</td>\n",
       "      <td>0.0</td>\n",
       "      <td>270889.000000</td>\n",
       "      <td>310322.00000</td>\n",
       "      <td>284479.000000</td>\n",
       "      <td>286603.000000</td>\n",
       "      <td>270138.00000</td>\n",
       "      <td>0.0</td>\n",
       "      <td>0.0</td>\n",
       "      <td>0.0</td>\n",
       "      <td>0.0</td>\n",
       "      <td>0.0</td>\n",
       "      <td>0.0</td>\n",
       "    </tr>\n",
       "    <tr>\n",
       "      <th>infs</th>\n",
       "      <td>0.0</td>\n",
       "      <td>0.0</td>\n",
       "      <td>0.0</td>\n",
       "      <td>0.0</td>\n",
       "      <td>0.0</td>\n",
       "      <td>0.0</td>\n",
       "      <td>0.0</td>\n",
       "      <td>0.000000</td>\n",
       "      <td>0.00000</td>\n",
       "      <td>0.000000</td>\n",
       "      <td>0.000000</td>\n",
       "      <td>0.00000</td>\n",
       "      <td>0.0</td>\n",
       "      <td>0.0</td>\n",
       "      <td>0.0</td>\n",
       "      <td>0.0</td>\n",
       "      <td>0.0</td>\n",
       "      <td>0.0</td>\n",
       "    </tr>\n",
       "    <tr>\n",
       "      <th>%nulls</th>\n",
       "      <td>0.0</td>\n",
       "      <td>0.0</td>\n",
       "      <td>0.0</td>\n",
       "      <td>0.0</td>\n",
       "      <td>0.0</td>\n",
       "      <td>0.0</td>\n",
       "      <td>0.0</td>\n",
       "      <td>0.642572</td>\n",
       "      <td>0.73611</td>\n",
       "      <td>0.674808</td>\n",
       "      <td>0.679847</td>\n",
       "      <td>0.64079</td>\n",
       "      <td>0.0</td>\n",
       "      <td>0.0</td>\n",
       "      <td>0.0</td>\n",
       "      <td>0.0</td>\n",
       "      <td>0.0</td>\n",
       "      <td>0.0</td>\n",
       "    </tr>\n",
       "  </tbody>\n",
       "</table>\n",
       "</div>"
      ],
      "text/plain": [
       "        Store  Dept  Date  Weekly_Sales  IsHoliday  Temperature  Fuel_Price  \\\n",
       "names                                                                         \n",
       "nulls     0.0   0.0   0.0           0.0        0.0          0.0         0.0   \n",
       "infs      0.0   0.0   0.0           0.0        0.0          0.0         0.0   \n",
       "%nulls    0.0   0.0   0.0           0.0        0.0          0.0         0.0   \n",
       "\n",
       "            MarkDown1     MarkDown2      MarkDown3      MarkDown4  \\\n",
       "names                                                               \n",
       "nulls   270889.000000  310322.00000  284479.000000  286603.000000   \n",
       "infs         0.000000       0.00000       0.000000       0.000000   \n",
       "%nulls       0.642572       0.73611       0.674808       0.679847   \n",
       "\n",
       "           MarkDown5  CPI  Unemployment  Size  Type_A  Type_B  Type_C  \n",
       "names                                                                  \n",
       "nulls   270138.00000  0.0           0.0   0.0     0.0     0.0     0.0  \n",
       "infs         0.00000  0.0           0.0   0.0     0.0     0.0     0.0  \n",
       "%nulls       0.64079  0.0           0.0   0.0     0.0     0.0     0.0  "
      ]
     },
     "execution_count": 11,
     "metadata": {},
     "output_type": "execute_result"
    }
   ],
   "source": [
    "checks_train"
   ]
  },
  {
   "cell_type": "code",
   "execution_count": 12,
   "metadata": {
    "ExecuteTime": {
     "end_time": "2021-01-09T19:40:05.719761Z",
     "start_time": "2021-01-09T19:40:05.693728Z"
    }
   },
   "outputs": [],
   "source": [
    "# Replace all nan's with 0\n",
    "\n",
    "dat_train_fs.fillna(0, inplace = True)"
   ]
  },
  {
   "cell_type": "code",
   "execution_count": 13,
   "metadata": {
    "ExecuteTime": {
     "end_time": "2021-01-09T19:40:07.115397Z",
     "start_time": "2021-01-09T19:40:07.055397Z"
    }
   },
   "outputs": [],
   "source": [
    "# Since we are looking at markdowns as a single component that affects demand, we will add it as one column.\n",
    "dat_train_fs['Markdown_total'] = dat_train_fs[['MarkDown1','MarkDown2','MarkDown3','MarkDown4','MarkDown5']].sum(axis = 1)"
   ]
  },
  {
   "cell_type": "code",
   "execution_count": 14,
   "metadata": {
    "ExecuteTime": {
     "end_time": "2021-01-09T19:40:09.918977Z",
     "start_time": "2021-01-09T19:40:09.778984Z"
    }
   },
   "outputs": [],
   "source": [
    "dat_train_fs['year'] = dat_train_fs['Date'].dt.year\n",
    "dat_train_fs = dat_train_fs.loc[dat_train_fs['year']==2012]\n",
    "dat_train_fs = dat_train_fs.reset_index(drop = True)"
   ]
  },
  {
   "cell_type": "code",
   "execution_count": 15,
   "metadata": {
    "ExecuteTime": {
     "end_time": "2021-01-09T19:40:20.166350Z",
     "start_time": "2021-01-09T19:40:20.144352Z"
    }
   },
   "outputs": [],
   "source": [
    "dat_train_fs['month'] = dat_train_fs['Date'].dt.month"
   ]
  },
  {
   "cell_type": "code",
   "execution_count": 16,
   "metadata": {
    "ExecuteTime": {
     "end_time": "2021-01-09T19:40:24.176738Z",
     "start_time": "2021-01-09T19:40:24.171770Z"
    }
   },
   "outputs": [
    {
     "data": {
      "text/plain": [
       "(127438, 21)"
      ]
     },
     "execution_count": 16,
     "metadata": {},
     "output_type": "execute_result"
    }
   ],
   "source": [
    "dat_train_fs.shape"
   ]
  },
  {
   "cell_type": "code",
   "execution_count": 17,
   "metadata": {
    "ExecuteTime": {
     "end_time": "2021-01-09T19:40:24.961723Z",
     "start_time": "2021-01-09T19:40:24.955720Z"
    }
   },
   "outputs": [
    {
     "data": {
      "text/plain": [
       "Index(['Store', 'Dept', 'Date', 'Weekly_Sales', 'IsHoliday', 'Temperature',\n",
       "       'Fuel_Price', 'MarkDown1', 'MarkDown2', 'MarkDown3', 'MarkDown4',\n",
       "       'MarkDown5', 'CPI', 'Unemployment', 'Size', 'Type_A', 'Type_B',\n",
       "       'Type_C', 'Markdown_total', 'year', 'month'],\n",
       "      dtype='object')"
      ]
     },
     "execution_count": 17,
     "metadata": {},
     "output_type": "execute_result"
    }
   ],
   "source": [
    "dat_train_fs.columns"
   ]
  },
  {
   "cell_type": "code",
   "execution_count": 18,
   "metadata": {
    "ExecuteTime": {
     "end_time": "2021-01-09T19:40:26.497309Z",
     "start_time": "2021-01-09T19:40:26.472311Z"
    }
   },
   "outputs": [],
   "source": [
    "# remove unwanted columns\n",
    "dat_train_fs = dat_train_fs.drop(columns = ['MarkDown1', 'MarkDown2', 'MarkDown3', 'MarkDown4',\n",
    "       'MarkDown5','year'])"
   ]
  },
  {
   "cell_type": "code",
   "execution_count": 19,
   "metadata": {
    "ExecuteTime": {
     "end_time": "2021-01-09T19:40:27.640556Z",
     "start_time": "2021-01-09T19:40:27.634547Z"
    }
   },
   "outputs": [
    {
     "data": {
      "text/plain": [
       "(127438, 15)"
      ]
     },
     "execution_count": 19,
     "metadata": {},
     "output_type": "execute_result"
    }
   ],
   "source": [
    "dat_train_fs.shape"
   ]
  },
  {
   "cell_type": "code",
   "execution_count": 20,
   "metadata": {
    "ExecuteTime": {
     "end_time": "2021-01-09T19:40:53.936355Z",
     "start_time": "2021-01-09T19:40:52.016269Z"
    }
   },
   "outputs": [],
   "source": [
    "dat_train_fs.to_csv('sales_dir\\sales_data.csv', index = False)"
   ]
  },
  {
   "cell_type": "code",
   "execution_count": null,
   "metadata": {},
   "outputs": [],
   "source": []
  }
 ],
 "metadata": {
  "kernelspec": {
   "display_name": "Python 3",
   "language": "python",
   "name": "python3"
  },
  "language_info": {
   "codemirror_mode": {
    "name": "ipython",
    "version": 3
   },
   "file_extension": ".py",
   "mimetype": "text/x-python",
   "name": "python",
   "nbconvert_exporter": "python",
   "pygments_lexer": "ipython3",
   "version": "3.7.6"
  },
  "toc": {
   "base_numbering": 1,
   "nav_menu": {},
   "number_sections": true,
   "sideBar": true,
   "skip_h1_title": false,
   "title_cell": "Table of Contents",
   "title_sidebar": "Contents",
   "toc_cell": false,
   "toc_position": {},
   "toc_section_display": true,
   "toc_window_display": false
  },
  "varInspector": {
   "cols": {
    "lenName": 16,
    "lenType": 16,
    "lenVar": 40
   },
   "kernels_config": {
    "python": {
     "delete_cmd_postfix": "",
     "delete_cmd_prefix": "del ",
     "library": "var_list.py",
     "varRefreshCmd": "print(var_dic_list())"
    },
    "r": {
     "delete_cmd_postfix": ") ",
     "delete_cmd_prefix": "rm(",
     "library": "var_list.r",
     "varRefreshCmd": "cat(var_dic_list()) "
    }
   },
   "types_to_exclude": [
    "module",
    "function",
    "builtin_function_or_method",
    "instance",
    "_Feature"
   ],
   "window_display": false
  }
 },
 "nbformat": 4,
 "nbformat_minor": 4
}
