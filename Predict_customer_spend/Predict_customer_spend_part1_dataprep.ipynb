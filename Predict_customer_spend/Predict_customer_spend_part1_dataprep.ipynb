{
 "cells": [
  {
   "cell_type": "markdown",
   "metadata": {},
   "source": [
    "# Predicting Customer Spending Behavior\n",
    "## Data Preparation Notebook\n",
    "\n",
    "Business Scenario\n",
    "\n",
    "Making predictions is one of the primary goals in marketing data science. For some problems we are asked to predict customer spend or future sales for a company or make sales forecasts for product lines. Let us suppose that the business would like to predict the customer spending behavior.\n",
    "\n",
    "Data\n",
    "We have some historical transaction data from 2010 and 2011.We want to predict the spend for the year 2012. So, we could use 2010 data to predict 2011 spending behavior in advance, unless the market or business has changed significantly since the time period the data was used to fit the model."
   ]
  },
  {
   "cell_type": "markdown",
   "metadata": {},
   "source": [
    "### Load Packages"
   ]
  },
  {
   "cell_type": "code",
   "execution_count": 1,
   "metadata": {
    "ExecuteTime": {
     "end_time": "2021-01-10T05:43:12.135883Z",
     "start_time": "2021-01-10T05:43:10.967945Z"
    }
   },
   "outputs": [],
   "source": [
    "import pandas as pd\n",
    "import numpy as np\n",
    "import matplotlib.pyplot as plt\n",
    "import seaborn as sns\n",
    "sns.set()\n",
    "import os"
   ]
  },
  {
   "cell_type": "markdown",
   "metadata": {},
   "source": [
    "### Load data"
   ]
  },
  {
   "cell_type": "code",
   "execution_count": 2,
   "metadata": {
    "ExecuteTime": {
     "end_time": "2021-01-10T05:43:12.658405Z",
     "start_time": "2021-01-10T05:43:12.160302Z"
    }
   },
   "outputs": [],
   "source": [
    "transactions_dat = pd.read_csv(os.getcwd()+'/retail_transactions.csv')"
   ]
  },
  {
   "cell_type": "markdown",
   "metadata": {},
   "source": [
    "### Data Exploration_1 - Exploring the data structure and Columns"
   ]
  },
  {
   "cell_type": "code",
   "execution_count": 3,
   "metadata": {
    "ExecuteTime": {
     "end_time": "2021-01-10T05:43:13.434547Z",
     "start_time": "2021-01-10T05:43:13.420548Z"
    }
   },
   "outputs": [
    {
     "data": {
      "text/html": [
       "<div>\n",
       "<style scoped>\n",
       "    .dataframe tbody tr th:only-of-type {\n",
       "        vertical-align: middle;\n",
       "    }\n",
       "\n",
       "    .dataframe tbody tr th {\n",
       "        vertical-align: top;\n",
       "    }\n",
       "\n",
       "    .dataframe thead th {\n",
       "        text-align: right;\n",
       "    }\n",
       "</style>\n",
       "<table border=\"1\" class=\"dataframe\">\n",
       "  <thead>\n",
       "    <tr style=\"text-align: right;\">\n",
       "      <th></th>\n",
       "      <th>OrderNo</th>\n",
       "      <th>StockCode</th>\n",
       "      <th>Description</th>\n",
       "      <th>Quantity</th>\n",
       "      <th>OrderDate</th>\n",
       "      <th>UnitPrice</th>\n",
       "      <th>CustomerID</th>\n",
       "      <th>Country</th>\n",
       "    </tr>\n",
       "  </thead>\n",
       "  <tbody>\n",
       "    <tr>\n",
       "      <th>0</th>\n",
       "      <td>546729</td>\n",
       "      <td>22775</td>\n",
       "      <td>PURPLE DRAWERKNOB ACRYLIC EDWARDIAN</td>\n",
       "      <td>12</td>\n",
       "      <td>2011-03-16 11:36:00</td>\n",
       "      <td>1.25</td>\n",
       "      <td>18231.0</td>\n",
       "      <td>India</td>\n",
       "    </tr>\n",
       "    <tr>\n",
       "      <th>1</th>\n",
       "      <td>559898</td>\n",
       "      <td>21868</td>\n",
       "      <td>POTTING SHED TEA MUG</td>\n",
       "      <td>6</td>\n",
       "      <td>2011-07-13 12:18:00</td>\n",
       "      <td>1.25</td>\n",
       "      <td>16225.0</td>\n",
       "      <td>India</td>\n",
       "    </tr>\n",
       "    <tr>\n",
       "      <th>2</th>\n",
       "      <td>548648</td>\n",
       "      <td>71459</td>\n",
       "      <td>HANGING JAM JAR T-LIGHT HOLDER</td>\n",
       "      <td>24</td>\n",
       "      <td>2011-04-01 13:20:00</td>\n",
       "      <td>0.85</td>\n",
       "      <td>12949.0</td>\n",
       "      <td>India</td>\n",
       "    </tr>\n",
       "    <tr>\n",
       "      <th>3</th>\n",
       "      <td>540543</td>\n",
       "      <td>22173</td>\n",
       "      <td>METAL 4 HOOK HANGER FRENCH CHATEAU</td>\n",
       "      <td>4</td>\n",
       "      <td>2011-01-09 15:23:00</td>\n",
       "      <td>2.95</td>\n",
       "      <td>14395.0</td>\n",
       "      <td>India</td>\n",
       "    </tr>\n",
       "    <tr>\n",
       "      <th>4</th>\n",
       "      <td>561390</td>\n",
       "      <td>20726</td>\n",
       "      <td>LUNCH BAG WOODLAND</td>\n",
       "      <td>10</td>\n",
       "      <td>2011-07-27 09:52:00</td>\n",
       "      <td>1.65</td>\n",
       "      <td>17068.0</td>\n",
       "      <td>India</td>\n",
       "    </tr>\n",
       "  </tbody>\n",
       "</table>\n",
       "</div>"
      ],
      "text/plain": [
       "   OrderNo StockCode                          Description  Quantity  \\\n",
       "0   546729     22775  PURPLE DRAWERKNOB ACRYLIC EDWARDIAN        12   \n",
       "1   559898     21868                 POTTING SHED TEA MUG         6   \n",
       "2   548648     71459       HANGING JAM JAR T-LIGHT HOLDER        24   \n",
       "3   540543     22173   METAL 4 HOOK HANGER FRENCH CHATEAU         4   \n",
       "4   561390     20726                   LUNCH BAG WOODLAND        10   \n",
       "\n",
       "             OrderDate  UnitPrice  CustomerID Country  \n",
       "0  2011-03-16 11:36:00       1.25     18231.0   India  \n",
       "1  2011-07-13 12:18:00       1.25     16225.0   India  \n",
       "2  2011-04-01 13:20:00       0.85     12949.0   India  \n",
       "3  2011-01-09 15:23:00       2.95     14395.0   India  \n",
       "4  2011-07-27 09:52:00       1.65     17068.0   India  "
      ]
     },
     "execution_count": 3,
     "metadata": {},
     "output_type": "execute_result"
    }
   ],
   "source": [
    "transactions_dat.head()"
   ]
  },
  {
   "cell_type": "code",
   "execution_count": 4,
   "metadata": {
    "ExecuteTime": {
     "end_time": "2021-01-10T05:43:13.884997Z",
     "start_time": "2021-01-10T05:43:13.867432Z"
    }
   },
   "outputs": [
    {
     "data": {
      "text/plain": [
       "Index(['OrderNo', 'StockCode', 'Description', 'Quantity', 'OrderDate',\n",
       "       'UnitPrice', 'CustomerID', 'Country'],\n",
       "      dtype='object')"
      ]
     },
     "execution_count": 4,
     "metadata": {},
     "output_type": "execute_result"
    }
   ],
   "source": [
    "transactions_dat.columns"
   ]
  },
  {
   "cell_type": "code",
   "execution_count": 5,
   "metadata": {
    "ExecuteTime": {
     "end_time": "2021-01-10T05:43:14.292274Z",
     "start_time": "2021-01-10T05:43:14.286279Z"
    }
   },
   "outputs": [
    {
     "data": {
      "text/plain": [
       "(397884, 8)"
      ]
     },
     "execution_count": 5,
     "metadata": {},
     "output_type": "execute_result"
    }
   ],
   "source": [
    "transactions_dat.shape"
   ]
  },
  {
   "cell_type": "code",
   "execution_count": 6,
   "metadata": {
    "ExecuteTime": {
     "end_time": "2021-01-10T05:43:14.920942Z",
     "start_time": "2021-01-10T05:43:14.912943Z"
    },
    "scrolled": true
   },
   "outputs": [
    {
     "data": {
      "text/plain": [
       "OrderNo          int64\n",
       "StockCode       object\n",
       "Description     object\n",
       "Quantity         int64\n",
       "OrderDate       object\n",
       "UnitPrice      float64\n",
       "CustomerID     float64\n",
       "Country         object\n",
       "dtype: object"
      ]
     },
     "execution_count": 6,
     "metadata": {},
     "output_type": "execute_result"
    }
   ],
   "source": [
    "transactions_dat.dtypes"
   ]
  },
  {
   "cell_type": "markdown",
   "metadata": {},
   "source": [
    "### Hypothesis"
   ]
  },
  {
   "cell_type": "markdown",
   "metadata": {
    "ExecuteTime": {
     "end_time": "2021-01-09T22:52:39.817464Z",
     "start_time": "2021-01-09T22:52:39.812467Z"
    }
   },
   "source": [
    "#### Notes for data wrangling\n",
    "1. Convert InvoiceDate to date\n",
    "2. Calculate customer_spend by multiplying Quantity and UnitPrice\n",
    "3. Perform groupby on Invoice number so that the we have each transaction on a single row\n",
    "4. Add year column as we need to segregate the data for training and prediction\n",
    "5. We will also need when the customer did last transaction in last year and first transaction in the year.\n",
    "6. After grouping by invoice, we group them by customer\n",
    "7. We would also need average spend by order\n",
    "8. sum of revenue for 2010 to predict sum of revenue for 2011\n",
    "9. dropping NAN customers\n",
    "10. outliers"
   ]
  },
  {
   "cell_type": "markdown",
   "metadata": {},
   "source": [
    "### Data Preparation"
   ]
  },
  {
   "cell_type": "markdown",
   "metadata": {},
   "source": [
    "#### Convert InvoiceDate to date"
   ]
  },
  {
   "cell_type": "code",
   "execution_count": 7,
   "metadata": {
    "ExecuteTime": {
     "end_time": "2021-01-10T05:43:18.566108Z",
     "start_time": "2021-01-10T05:43:18.280700Z"
    }
   },
   "outputs": [],
   "source": [
    "# Convert InvoiceDate to pd datetime format\n",
    "\n",
    "transactions_dat['OrderDate'] = pd.to_datetime(transactions_dat['OrderDate'])"
   ]
  },
  {
   "cell_type": "markdown",
   "metadata": {},
   "source": [
    "#### Calculate customer_spend by multiplying Quantity and UnitPrice"
   ]
  },
  {
   "cell_type": "code",
   "execution_count": 8,
   "metadata": {
    "ExecuteTime": {
     "end_time": "2021-01-10T05:43:19.491932Z",
     "start_time": "2021-01-10T05:43:19.472932Z"
    }
   },
   "outputs": [],
   "source": [
    "# Calculate customer_spend by multiplying Quantity and UnitPrice\n",
    "\n",
    "transactions_dat['CustomerSpend'] = transactions_dat['Quantity']*transactions_dat['UnitPrice']"
   ]
  },
  {
   "cell_type": "code",
   "execution_count": 9,
   "metadata": {
    "ExecuteTime": {
     "end_time": "2021-01-10T05:43:19.900181Z",
     "start_time": "2021-01-10T05:43:19.894185Z"
    }
   },
   "outputs": [
    {
     "data": {
      "text/plain": [
       "(397884, 9)"
      ]
     },
     "execution_count": 9,
     "metadata": {},
     "output_type": "execute_result"
    }
   ],
   "source": [
    "transactions_dat.shape"
   ]
  },
  {
   "cell_type": "markdown",
   "metadata": {},
   "source": [
    "#### Perform groupby on Invoice number so that the we have each transaction on a single row"
   ]
  },
  {
   "cell_type": "code",
   "execution_count": 10,
   "metadata": {
    "ExecuteTime": {
     "end_time": "2021-01-10T05:43:20.784136Z",
     "start_time": "2021-01-10T05:43:20.729138Z"
    }
   },
   "outputs": [],
   "source": [
    "# Perform groupby on Invoice number so that the we have each transaction on a single row\n",
    "\n",
    "operations = {'CustomerSpend':'sum',\n",
    "             'OrderDate':'first',\n",
    "             'CustomerID':'first'}\n",
    "\n",
    "\n",
    "transactions_dat = transactions_dat.groupby('OrderNo').agg(operations)"
   ]
  },
  {
   "cell_type": "code",
   "execution_count": 11,
   "metadata": {
    "ExecuteTime": {
     "end_time": "2021-01-10T05:43:21.156166Z",
     "start_time": "2021-01-10T05:43:21.151162Z"
    }
   },
   "outputs": [
    {
     "data": {
      "text/plain": [
       "(18531, 3)"
      ]
     },
     "execution_count": 11,
     "metadata": {},
     "output_type": "execute_result"
    }
   ],
   "source": [
    "transactions_dat.shape"
   ]
  },
  {
   "cell_type": "markdown",
   "metadata": {},
   "source": [
    "#### Add year column as we need to segregate the data for training and prediction"
   ]
  },
  {
   "cell_type": "code",
   "execution_count": 12,
   "metadata": {
    "ExecuteTime": {
     "end_time": "2021-01-10T05:43:22.213180Z",
     "start_time": "2021-01-10T05:43:22.207148Z"
    }
   },
   "outputs": [],
   "source": [
    "# Add year column as we need to segregate the data for training and prediction\n",
    "\n",
    "transactions_dat['year'] = transactions_dat['OrderDate'].dt.year"
   ]
  },
  {
   "cell_type": "markdown",
   "metadata": {},
   "source": [
    "#### Calculate recency - when the customer did last transaction in last year"
   ]
  },
  {
   "cell_type": "code",
   "execution_count": 13,
   "metadata": {
    "ExecuteTime": {
     "end_time": "2021-01-10T05:43:23.031724Z",
     "start_time": "2021-01-10T05:43:23.022724Z"
    }
   },
   "outputs": [
    {
     "name": "stderr",
     "output_type": "stream",
     "text": [
      "C:\\Users\\Sonia\\anaconda3\\lib\\site-packages\\ipykernel_launcher.py:4: FutureWarning: The pandas.datetime class is deprecated and will be removed from pandas in a future version. Import from datetime module instead.\n",
      "  after removing the cwd from sys.path.\n"
     ]
    }
   ],
   "source": [
    "# when the customer did last transaction in last year?\n",
    "# difference between the last date of the year that is dec 31 and the invoice date\n",
    "\n",
    "transactions_dat['days_since'] = (pd.datetime(year = 2010, month = 12, day = 31)-transactions_dat['OrderDate']).dt.days"
   ]
  },
  {
   "cell_type": "code",
   "execution_count": 14,
   "metadata": {
    "ExecuteTime": {
     "end_time": "2021-01-10T05:43:23.788623Z",
     "start_time": "2021-01-10T05:43:23.784613Z"
    }
   },
   "outputs": [
    {
     "data": {
      "text/plain": [
       "(18531, 5)"
      ]
     },
     "execution_count": 14,
     "metadata": {},
     "output_type": "execute_result"
    }
   ],
   "source": [
    "transactions_dat.shape"
   ]
  },
  {
   "cell_type": "markdown",
   "metadata": {},
   "source": [
    "#### Group  by CustomerID"
   ]
  },
  {
   "cell_type": "code",
   "execution_count": 15,
   "metadata": {
    "ExecuteTime": {
     "end_time": "2021-01-10T05:43:25.501260Z",
     "start_time": "2021-01-10T05:43:25.467818Z"
    }
   },
   "outputs": [],
   "source": [
    "# Group the data by customer\n",
    "\n",
    "operations = {'CustomerSpend':'sum',\n",
    "             'days_since':['max','min','nunique']}\n",
    "\n",
    "train = transactions_dat[transactions_dat['year']==2010].groupby('CustomerID').agg(operations)"
   ]
  },
  {
   "cell_type": "code",
   "execution_count": 16,
   "metadata": {
    "ExecuteTime": {
     "end_time": "2021-01-10T05:43:25.923729Z",
     "start_time": "2021-01-10T05:43:25.918727Z"
    },
    "scrolled": true
   },
   "outputs": [
    {
     "data": {
      "text/plain": [
       "MultiIndex([('CustomerSpend',     'sum'),\n",
       "            (   'days_since',     'max'),\n",
       "            (   'days_since',     'min'),\n",
       "            (   'days_since', 'nunique')],\n",
       "           )"
      ]
     },
     "execution_count": 16,
     "metadata": {},
     "output_type": "execute_result"
    }
   ],
   "source": [
    "train.columns"
   ]
  },
  {
   "cell_type": "code",
   "execution_count": 17,
   "metadata": {
    "ExecuteTime": {
     "end_time": "2021-01-10T05:43:26.349794Z",
     "start_time": "2021-01-10T05:43:26.335794Z"
    }
   },
   "outputs": [
    {
     "data": {
      "text/html": [
       "<div>\n",
       "<style scoped>\n",
       "    .dataframe tbody tr th:only-of-type {\n",
       "        vertical-align: middle;\n",
       "    }\n",
       "\n",
       "    .dataframe tbody tr th {\n",
       "        vertical-align: top;\n",
       "    }\n",
       "\n",
       "    .dataframe thead tr th {\n",
       "        text-align: left;\n",
       "    }\n",
       "\n",
       "    .dataframe thead tr:last-of-type th {\n",
       "        text-align: right;\n",
       "    }\n",
       "</style>\n",
       "<table border=\"1\" class=\"dataframe\">\n",
       "  <thead>\n",
       "    <tr>\n",
       "      <th></th>\n",
       "      <th>CustomerSpend</th>\n",
       "      <th colspan=\"3\" halign=\"left\">days_since</th>\n",
       "    </tr>\n",
       "    <tr>\n",
       "      <th></th>\n",
       "      <th>sum</th>\n",
       "      <th>max</th>\n",
       "      <th>min</th>\n",
       "      <th>nunique</th>\n",
       "    </tr>\n",
       "    <tr>\n",
       "      <th>CustomerID</th>\n",
       "      <th></th>\n",
       "      <th></th>\n",
       "      <th></th>\n",
       "      <th></th>\n",
       "    </tr>\n",
       "  </thead>\n",
       "  <tbody>\n",
       "    <tr>\n",
       "      <th>12347.0</th>\n",
       "      <td>711.79</td>\n",
       "      <td>23</td>\n",
       "      <td>23</td>\n",
       "      <td>1</td>\n",
       "    </tr>\n",
       "    <tr>\n",
       "      <th>12348.0</th>\n",
       "      <td>892.80</td>\n",
       "      <td>14</td>\n",
       "      <td>14</td>\n",
       "      <td>1</td>\n",
       "    </tr>\n",
       "    <tr>\n",
       "      <th>12370.0</th>\n",
       "      <td>1868.02</td>\n",
       "      <td>16</td>\n",
       "      <td>13</td>\n",
       "      <td>2</td>\n",
       "    </tr>\n",
       "    <tr>\n",
       "      <th>12377.0</th>\n",
       "      <td>1001.52</td>\n",
       "      <td>10</td>\n",
       "      <td>10</td>\n",
       "      <td>1</td>\n",
       "    </tr>\n",
       "    <tr>\n",
       "      <th>12383.0</th>\n",
       "      <td>600.72</td>\n",
       "      <td>8</td>\n",
       "      <td>8</td>\n",
       "      <td>1</td>\n",
       "    </tr>\n",
       "  </tbody>\n",
       "</table>\n",
       "</div>"
      ],
      "text/plain": [
       "           CustomerSpend days_since            \n",
       "                     sum        max min nunique\n",
       "CustomerID                                     \n",
       "12347.0           711.79         23  23       1\n",
       "12348.0           892.80         14  14       1\n",
       "12370.0          1868.02         16  13       2\n",
       "12377.0          1001.52         10  10       1\n",
       "12383.0           600.72          8   8       1"
      ]
     },
     "execution_count": 17,
     "metadata": {},
     "output_type": "execute_result"
    }
   ],
   "source": [
    "train.head()"
   ]
  },
  {
   "cell_type": "code",
   "execution_count": 18,
   "metadata": {
    "ExecuteTime": {
     "end_time": "2021-01-10T05:43:27.282037Z",
     "start_time": "2021-01-10T05:43:27.278041Z"
    }
   },
   "outputs": [],
   "source": [
    "train.columns = ['_'.join(col) for col in train.columns]"
   ]
  },
  {
   "cell_type": "code",
   "execution_count": 19,
   "metadata": {
    "ExecuteTime": {
     "end_time": "2021-01-10T05:43:27.701669Z",
     "start_time": "2021-01-10T05:43:27.691677Z"
    },
    "scrolled": true
   },
   "outputs": [
    {
     "data": {
      "text/html": [
       "<div>\n",
       "<style scoped>\n",
       "    .dataframe tbody tr th:only-of-type {\n",
       "        vertical-align: middle;\n",
       "    }\n",
       "\n",
       "    .dataframe tbody tr th {\n",
       "        vertical-align: top;\n",
       "    }\n",
       "\n",
       "    .dataframe thead th {\n",
       "        text-align: right;\n",
       "    }\n",
       "</style>\n",
       "<table border=\"1\" class=\"dataframe\">\n",
       "  <thead>\n",
       "    <tr style=\"text-align: right;\">\n",
       "      <th></th>\n",
       "      <th>CustomerSpend_sum</th>\n",
       "      <th>days_since_max</th>\n",
       "      <th>days_since_min</th>\n",
       "      <th>days_since_nunique</th>\n",
       "    </tr>\n",
       "    <tr>\n",
       "      <th>CustomerID</th>\n",
       "      <th></th>\n",
       "      <th></th>\n",
       "      <th></th>\n",
       "      <th></th>\n",
       "    </tr>\n",
       "  </thead>\n",
       "  <tbody>\n",
       "    <tr>\n",
       "      <th>12347.0</th>\n",
       "      <td>711.79</td>\n",
       "      <td>23</td>\n",
       "      <td>23</td>\n",
       "      <td>1</td>\n",
       "    </tr>\n",
       "    <tr>\n",
       "      <th>12348.0</th>\n",
       "      <td>892.80</td>\n",
       "      <td>14</td>\n",
       "      <td>14</td>\n",
       "      <td>1</td>\n",
       "    </tr>\n",
       "    <tr>\n",
       "      <th>12370.0</th>\n",
       "      <td>1868.02</td>\n",
       "      <td>16</td>\n",
       "      <td>13</td>\n",
       "      <td>2</td>\n",
       "    </tr>\n",
       "    <tr>\n",
       "      <th>12377.0</th>\n",
       "      <td>1001.52</td>\n",
       "      <td>10</td>\n",
       "      <td>10</td>\n",
       "      <td>1</td>\n",
       "    </tr>\n",
       "    <tr>\n",
       "      <th>12383.0</th>\n",
       "      <td>600.72</td>\n",
       "      <td>8</td>\n",
       "      <td>8</td>\n",
       "      <td>1</td>\n",
       "    </tr>\n",
       "  </tbody>\n",
       "</table>\n",
       "</div>"
      ],
      "text/plain": [
       "            CustomerSpend_sum  days_since_max  days_since_min  \\\n",
       "CustomerID                                                      \n",
       "12347.0                711.79              23              23   \n",
       "12348.0                892.80              14              14   \n",
       "12370.0               1868.02              16              13   \n",
       "12377.0               1001.52              10              10   \n",
       "12383.0                600.72               8               8   \n",
       "\n",
       "            days_since_nunique  \n",
       "CustomerID                      \n",
       "12347.0                      1  \n",
       "12348.0                      1  \n",
       "12370.0                      2  \n",
       "12377.0                      1  \n",
       "12383.0                      1  "
      ]
     },
     "execution_count": 19,
     "metadata": {},
     "output_type": "execute_result"
    }
   ],
   "source": [
    "train.head()"
   ]
  },
  {
   "cell_type": "markdown",
   "metadata": {},
   "source": [
    "#### Calculate average spend by order"
   ]
  },
  {
   "cell_type": "code",
   "execution_count": 20,
   "metadata": {
    "ExecuteTime": {
     "end_time": "2021-01-10T05:43:28.781588Z",
     "start_time": "2021-01-10T05:43:28.777594Z"
    }
   },
   "outputs": [],
   "source": [
    "# Average spend per order\n",
    "\n",
    "train['average_spend_per_order'] = train['CustomerSpend_sum']/train['days_since_nunique']"
   ]
  },
  {
   "cell_type": "markdown",
   "metadata": {},
   "source": [
    "#### Sum of revenue for 2010 to predict sum of revenue for 2011"
   ]
  },
  {
   "cell_type": "code",
   "execution_count": 21,
   "metadata": {
    "ExecuteTime": {
     "end_time": "2021-01-10T05:43:29.656302Z",
     "start_time": "2021-01-10T05:43:29.645271Z"
    }
   },
   "outputs": [],
   "source": [
    "y = transactions_dat[transactions_dat['year']==2011].groupby('CustomerID')['CustomerSpend'].sum()"
   ]
  },
  {
   "cell_type": "code",
   "execution_count": 22,
   "metadata": {
    "ExecuteTime": {
     "end_time": "2021-01-10T05:43:30.068183Z",
     "start_time": "2021-01-10T05:43:30.063181Z"
    }
   },
   "outputs": [
    {
     "data": {
      "text/plain": [
       "((885, 5), (4219,))"
      ]
     },
     "execution_count": 22,
     "metadata": {},
     "output_type": "execute_result"
    }
   ],
   "source": [
    "train.shape, y.shape"
   ]
  },
  {
   "cell_type": "markdown",
   "metadata": {},
   "source": [
    "#### New df with all the required columns"
   ]
  },
  {
   "cell_type": "code",
   "execution_count": 23,
   "metadata": {
    "ExecuteTime": {
     "end_time": "2021-01-10T05:43:31.551455Z",
     "start_time": "2021-01-10T05:43:31.539453Z"
    }
   },
   "outputs": [],
   "source": [
    "df_prepared = pd.concat([train,y], axis = 1)"
   ]
  },
  {
   "cell_type": "code",
   "execution_count": 24,
   "metadata": {
    "ExecuteTime": {
     "end_time": "2021-01-10T05:43:32.734737Z",
     "start_time": "2021-01-10T05:43:32.730740Z"
    }
   },
   "outputs": [],
   "source": [
    "df_prepared.columns = ['2010_customer_spend','days_since_first_purchase','days_since_last_purchase',\n",
    "                       'number_of_purchases','avg_spend_per_order','2011_customer_spend']"
   ]
  },
  {
   "cell_type": "code",
   "execution_count": 25,
   "metadata": {
    "ExecuteTime": {
     "end_time": "2021-01-10T05:43:33.152828Z",
     "start_time": "2021-01-10T05:43:33.139831Z"
    },
    "scrolled": false
   },
   "outputs": [
    {
     "data": {
      "text/html": [
       "<div>\n",
       "<style scoped>\n",
       "    .dataframe tbody tr th:only-of-type {\n",
       "        vertical-align: middle;\n",
       "    }\n",
       "\n",
       "    .dataframe tbody tr th {\n",
       "        vertical-align: top;\n",
       "    }\n",
       "\n",
       "    .dataframe thead th {\n",
       "        text-align: right;\n",
       "    }\n",
       "</style>\n",
       "<table border=\"1\" class=\"dataframe\">\n",
       "  <thead>\n",
       "    <tr style=\"text-align: right;\">\n",
       "      <th></th>\n",
       "      <th>2010_customer_spend</th>\n",
       "      <th>days_since_first_purchase</th>\n",
       "      <th>days_since_last_purchase</th>\n",
       "      <th>number_of_purchases</th>\n",
       "      <th>avg_spend_per_order</th>\n",
       "      <th>2011_customer_spend</th>\n",
       "    </tr>\n",
       "    <tr>\n",
       "      <th>CustomerID</th>\n",
       "      <th></th>\n",
       "      <th></th>\n",
       "      <th></th>\n",
       "      <th></th>\n",
       "      <th></th>\n",
       "      <th></th>\n",
       "    </tr>\n",
       "  </thead>\n",
       "  <tbody>\n",
       "    <tr>\n",
       "      <th>12346.0</th>\n",
       "      <td>NaN</td>\n",
       "      <td>NaN</td>\n",
       "      <td>NaN</td>\n",
       "      <td>NaN</td>\n",
       "      <td>NaN</td>\n",
       "      <td>77183.60</td>\n",
       "    </tr>\n",
       "    <tr>\n",
       "      <th>12347.0</th>\n",
       "      <td>711.79</td>\n",
       "      <td>23.0</td>\n",
       "      <td>23.0</td>\n",
       "      <td>1.0</td>\n",
       "      <td>711.79</td>\n",
       "      <td>3598.21</td>\n",
       "    </tr>\n",
       "    <tr>\n",
       "      <th>12348.0</th>\n",
       "      <td>892.80</td>\n",
       "      <td>14.0</td>\n",
       "      <td>14.0</td>\n",
       "      <td>1.0</td>\n",
       "      <td>892.80</td>\n",
       "      <td>904.44</td>\n",
       "    </tr>\n",
       "    <tr>\n",
       "      <th>12349.0</th>\n",
       "      <td>NaN</td>\n",
       "      <td>NaN</td>\n",
       "      <td>NaN</td>\n",
       "      <td>NaN</td>\n",
       "      <td>NaN</td>\n",
       "      <td>1757.55</td>\n",
       "    </tr>\n",
       "    <tr>\n",
       "      <th>12350.0</th>\n",
       "      <td>NaN</td>\n",
       "      <td>NaN</td>\n",
       "      <td>NaN</td>\n",
       "      <td>NaN</td>\n",
       "      <td>NaN</td>\n",
       "      <td>334.40</td>\n",
       "    </tr>\n",
       "  </tbody>\n",
       "</table>\n",
       "</div>"
      ],
      "text/plain": [
       "            2010_customer_spend  days_since_first_purchase  \\\n",
       "CustomerID                                                   \n",
       "12346.0                     NaN                        NaN   \n",
       "12347.0                  711.79                       23.0   \n",
       "12348.0                  892.80                       14.0   \n",
       "12349.0                     NaN                        NaN   \n",
       "12350.0                     NaN                        NaN   \n",
       "\n",
       "            days_since_last_purchase  number_of_purchases  \\\n",
       "CustomerID                                                  \n",
       "12346.0                          NaN                  NaN   \n",
       "12347.0                         23.0                  1.0   \n",
       "12348.0                         14.0                  1.0   \n",
       "12349.0                          NaN                  NaN   \n",
       "12350.0                          NaN                  NaN   \n",
       "\n",
       "            avg_spend_per_order  2011_customer_spend  \n",
       "CustomerID                                            \n",
       "12346.0                     NaN             77183.60  \n",
       "12347.0                  711.79              3598.21  \n",
       "12348.0                  892.80               904.44  \n",
       "12349.0                     NaN              1757.55  \n",
       "12350.0                     NaN               334.40  "
      ]
     },
     "execution_count": 25,
     "metadata": {},
     "output_type": "execute_result"
    }
   ],
   "source": [
    "df_prepared.head()"
   ]
  },
  {
   "cell_type": "code",
   "execution_count": 26,
   "metadata": {
    "ExecuteTime": {
     "end_time": "2021-01-10T05:43:33.951164Z",
     "start_time": "2021-01-10T05:43:33.946164Z"
    }
   },
   "outputs": [
    {
     "data": {
      "text/plain": [
       "(4338, 6)"
      ]
     },
     "execution_count": 26,
     "metadata": {},
     "output_type": "execute_result"
    }
   ],
   "source": [
    "df_prepared.shape"
   ]
  },
  {
   "cell_type": "markdown",
   "metadata": {},
   "source": [
    "#### Address missing values and inf values if any"
   ]
  },
  {
   "cell_type": "code",
   "execution_count": 28,
   "metadata": {
    "ExecuteTime": {
     "end_time": "2021-01-10T05:43:40.294476Z",
     "start_time": "2021-01-10T05:43:40.275441Z"
    }
   },
   "outputs": [],
   "source": [
    "checks = pd.DataFrame(df_prepared.isnull().sum()).T\n",
    "checks = checks.append(pd.DataFrame(df_prepared.isnull().sum()/df_prepared.shape[0]*100).T)\n",
    "checks = checks.append(pd.DataFrame(df_prepared.isin([np.inf,-np.inf]).sum()).T) \n",
    "checks['names'] = ['nulls','%nulls','inf_values']\n",
    "checks = checks.set_index('names')"
   ]
  },
  {
   "cell_type": "code",
   "execution_count": 29,
   "metadata": {
    "ExecuteTime": {
     "end_time": "2021-01-10T05:43:48.417924Z",
     "start_time": "2021-01-10T05:43:48.401926Z"
    }
   },
   "outputs": [
    {
     "data": {
      "text/html": [
       "<div>\n",
       "<style scoped>\n",
       "    .dataframe tbody tr th:only-of-type {\n",
       "        vertical-align: middle;\n",
       "    }\n",
       "\n",
       "    .dataframe tbody tr th {\n",
       "        vertical-align: top;\n",
       "    }\n",
       "\n",
       "    .dataframe thead th {\n",
       "        text-align: right;\n",
       "    }\n",
       "</style>\n",
       "<table border=\"1\" class=\"dataframe\">\n",
       "  <thead>\n",
       "    <tr style=\"text-align: right;\">\n",
       "      <th></th>\n",
       "      <th>2010_customer_spend</th>\n",
       "      <th>days_since_first_purchase</th>\n",
       "      <th>days_since_last_purchase</th>\n",
       "      <th>number_of_purchases</th>\n",
       "      <th>avg_spend_per_order</th>\n",
       "      <th>2011_customer_spend</th>\n",
       "    </tr>\n",
       "    <tr>\n",
       "      <th>names</th>\n",
       "      <th></th>\n",
       "      <th></th>\n",
       "      <th></th>\n",
       "      <th></th>\n",
       "      <th></th>\n",
       "      <th></th>\n",
       "    </tr>\n",
       "  </thead>\n",
       "  <tbody>\n",
       "    <tr>\n",
       "      <th>nulls</th>\n",
       "      <td>3453.000000</td>\n",
       "      <td>3453.000000</td>\n",
       "      <td>3453.000000</td>\n",
       "      <td>3453.000000</td>\n",
       "      <td>3453.000000</td>\n",
       "      <td>119.0000</td>\n",
       "    </tr>\n",
       "    <tr>\n",
       "      <th>%nulls</th>\n",
       "      <td>79.598893</td>\n",
       "      <td>79.598893</td>\n",
       "      <td>79.598893</td>\n",
       "      <td>79.598893</td>\n",
       "      <td>79.598893</td>\n",
       "      <td>2.7432</td>\n",
       "    </tr>\n",
       "    <tr>\n",
       "      <th>inf_values</th>\n",
       "      <td>0.000000</td>\n",
       "      <td>0.000000</td>\n",
       "      <td>0.000000</td>\n",
       "      <td>0.000000</td>\n",
       "      <td>0.000000</td>\n",
       "      <td>0.0000</td>\n",
       "    </tr>\n",
       "  </tbody>\n",
       "</table>\n",
       "</div>"
      ],
      "text/plain": [
       "            2010_customer_spend  days_since_first_purchase  \\\n",
       "names                                                        \n",
       "nulls               3453.000000                3453.000000   \n",
       "%nulls                79.598893                  79.598893   \n",
       "inf_values             0.000000                   0.000000   \n",
       "\n",
       "            days_since_last_purchase  number_of_purchases  \\\n",
       "names                                                       \n",
       "nulls                    3453.000000          3453.000000   \n",
       "%nulls                     79.598893            79.598893   \n",
       "inf_values                  0.000000             0.000000   \n",
       "\n",
       "            avg_spend_per_order  2011_customer_spend  \n",
       "names                                                 \n",
       "nulls               3453.000000             119.0000  \n",
       "%nulls                79.598893               2.7432  \n",
       "inf_values             0.000000               0.0000  "
      ]
     },
     "execution_count": 29,
     "metadata": {},
     "output_type": "execute_result"
    }
   ],
   "source": [
    "checks"
   ]
  },
  {
   "cell_type": "code",
   "execution_count": 30,
   "metadata": {
    "ExecuteTime": {
     "end_time": "2021-01-10T05:55:33.767567Z",
     "start_time": "2021-01-10T05:55:33.759566Z"
    }
   },
   "outputs": [],
   "source": [
    "df_prepared = df_prepared[~df_prepared['2010_customer_spend'].isnull()]\n",
    "df_prepared = df_prepared[~df_prepared['2011_customer_spend'].isnull()]"
   ]
  },
  {
   "cell_type": "code",
   "execution_count": 31,
   "metadata": {
    "ExecuteTime": {
     "end_time": "2021-01-10T05:55:34.539488Z",
     "start_time": "2021-01-10T05:55:34.521494Z"
    },
    "scrolled": true
   },
   "outputs": [
    {
     "data": {
      "text/html": [
       "<div>\n",
       "<style scoped>\n",
       "    .dataframe tbody tr th:only-of-type {\n",
       "        vertical-align: middle;\n",
       "    }\n",
       "\n",
       "    .dataframe tbody tr th {\n",
       "        vertical-align: top;\n",
       "    }\n",
       "\n",
       "    .dataframe thead th {\n",
       "        text-align: right;\n",
       "    }\n",
       "</style>\n",
       "<table border=\"1\" class=\"dataframe\">\n",
       "  <thead>\n",
       "    <tr style=\"text-align: right;\">\n",
       "      <th></th>\n",
       "      <th>2010_customer_spend</th>\n",
       "      <th>days_since_first_purchase</th>\n",
       "      <th>days_since_last_purchase</th>\n",
       "      <th>number_of_purchases</th>\n",
       "      <th>avg_spend_per_order</th>\n",
       "      <th>2011_customer_spend</th>\n",
       "    </tr>\n",
       "  </thead>\n",
       "  <tbody>\n",
       "    <tr>\n",
       "      <th>0</th>\n",
       "      <td>0.0</td>\n",
       "      <td>0.0</td>\n",
       "      <td>0.0</td>\n",
       "      <td>0.0</td>\n",
       "      <td>0.0</td>\n",
       "      <td>0.0</td>\n",
       "    </tr>\n",
       "    <tr>\n",
       "      <th>0</th>\n",
       "      <td>0.0</td>\n",
       "      <td>0.0</td>\n",
       "      <td>0.0</td>\n",
       "      <td>0.0</td>\n",
       "      <td>0.0</td>\n",
       "      <td>0.0</td>\n",
       "    </tr>\n",
       "    <tr>\n",
       "      <th>0</th>\n",
       "      <td>0.0</td>\n",
       "      <td>0.0</td>\n",
       "      <td>0.0</td>\n",
       "      <td>0.0</td>\n",
       "      <td>0.0</td>\n",
       "      <td>0.0</td>\n",
       "    </tr>\n",
       "  </tbody>\n",
       "</table>\n",
       "</div>"
      ],
      "text/plain": [
       "   2010_customer_spend  days_since_first_purchase  days_since_last_purchase  \\\n",
       "0                  0.0                        0.0                       0.0   \n",
       "0                  0.0                        0.0                       0.0   \n",
       "0                  0.0                        0.0                       0.0   \n",
       "\n",
       "   number_of_purchases  avg_spend_per_order  2011_customer_spend  \n",
       "0                  0.0                  0.0                  0.0  \n",
       "0                  0.0                  0.0                  0.0  \n",
       "0                  0.0                  0.0                  0.0  "
      ]
     },
     "execution_count": 31,
     "metadata": {},
     "output_type": "execute_result"
    }
   ],
   "source": [
    "checks = pd.DataFrame(df_prepared.isnull().sum()).T\n",
    "checks = checks.append(pd.DataFrame(df_prepared.isnull().sum()/df_prepared.shape[0]*100).T)\n",
    "checks = checks.append(pd.DataFrame(df_prepared.isin([np.inf,-np.inf]).sum()).T)\n",
    "checks"
   ]
  },
  {
   "cell_type": "code",
   "execution_count": 32,
   "metadata": {
    "ExecuteTime": {
     "end_time": "2021-01-10T05:55:35.322846Z",
     "start_time": "2021-01-10T05:55:35.316876Z"
    }
   },
   "outputs": [
    {
     "data": {
      "text/plain": [
       "(766, 6)"
      ]
     },
     "execution_count": 32,
     "metadata": {},
     "output_type": "execute_result"
    }
   ],
   "source": [
    "df_prepared.shape"
   ]
  },
  {
   "cell_type": "markdown",
   "metadata": {},
   "source": [
    "#### Address Outliers if any"
   ]
  },
  {
   "cell_type": "code",
   "execution_count": 33,
   "metadata": {
    "ExecuteTime": {
     "end_time": "2021-01-10T05:55:37.421413Z",
     "start_time": "2021-01-10T05:55:37.166667Z"
    },
    "scrolled": true
   },
   "outputs": [
    {
     "data": {
      "text/plain": [
       "<matplotlib.axes._subplots.AxesSubplot at 0x16f9800dc08>"
      ]
     },
     "execution_count": 33,
     "metadata": {},
     "output_type": "execute_result"
    },
    {
     "data": {
      "image/png": "[encoded data removed]",
      "text/plain": [
       "<Figure size 432x288 with 1 Axes>"
      ]
     },
     "metadata": {},
     "output_type": "display_data"
    }
   ],
   "source": [
    "# Outliers\n",
    "\n",
    "df_prepared['2010_customer_spend'].plot.hist()"
   ]
  },
  {
   "cell_type": "code",
   "execution_count": 34,
   "metadata": {
    "ExecuteTime": {
     "end_time": "2021-01-10T05:56:05.866874Z",
     "start_time": "2021-01-10T05:56:05.858872Z"
    }
   },
   "outputs": [
    {
     "data": {
      "text/plain": [
       "(27834.61, 12.45)"
      ]
     },
     "execution_count": 34,
     "metadata": {},
     "output_type": "execute_result"
    }
   ],
   "source": [
    "max(df_prepared['2010_customer_spend']), min(df_prepared['2010_customer_spend'])"
   ]
  },
  {
   "cell_type": "code",
   "execution_count": null,
   "metadata": {
    "ExecuteTime": {
     "end_time": "2021-01-10T00:48:11.406783Z",
     "start_time": "2021-01-10T00:48:11.397796Z"
    }
   },
   "outputs": [],
   "source": [
    "# Remove outliers\n",
    "# use median instead of mean\n",
    "# any value out of 3 standard deviations is outlier\n",
    "\n",
    "df_prepared = df_prepared[df_prepared['2011_customer_spend'] < (df_prepared['2011_customer_spend'].median() + df_prepared['2011_customer_spend'].std()*3)]\n",
    "df_prepared = df_prepared[df_prepared['2010_customer_spend'] < (df_prepared['2010_customer_spend'].median() + df_prepared['2010_customer_spend'].std()*3)]"
   ]
  },
  {
   "cell_type": "code",
   "execution_count": null,
   "metadata": {
    "ExecuteTime": {
     "end_time": "2021-01-10T00:48:11.427784Z",
     "start_time": "2021-01-10T00:48:11.408782Z"
    }
   },
   "outputs": [],
   "source": [
    "df_prepared.head()"
   ]
  },
  {
   "cell_type": "code",
   "execution_count": null,
   "metadata": {
    "ExecuteTime": {
     "end_time": "2021-01-10T00:48:11.439785Z",
     "start_time": "2021-01-10T00:48:11.430792Z"
    }
   },
   "outputs": [],
   "source": [
    "df_prepared.shape"
   ]
  },
  {
   "cell_type": "markdown",
   "metadata": {},
   "source": [
    "### Create a new csv file for wrangled data"
   ]
  },
  {
   "cell_type": "code",
   "execution_count": null,
   "metadata": {
    "ExecuteTime": {
     "end_time": "2021-01-10T00:48:19.159598Z",
     "start_time": "2021-01-10T00:48:19.137506Z"
    }
   },
   "outputs": [],
   "source": [
    "df_prepared.to_csv('df_wrangled.csv')"
   ]
  },
  {
   "cell_type": "code",
   "execution_count": null,
   "metadata": {},
   "outputs": [],
   "source": []
  }
 ],
 "metadata": {
  "kernelspec": {
   "display_name": "Python 3",
   "language": "python",
   "name": "python3"
  },
  "language_info": {
   "codemirror_mode": {
    "name": "ipython",
    "version": 3
   },
   "file_extension": ".py",
   "mimetype": "text/x-python",
   "name": "python",
   "nbconvert_exporter": "python",
   "pygments_lexer": "ipython3",
   "version": "3.7.6"
  },
  "toc": {
   "base_numbering": 1,
   "nav_menu": {},
   "number_sections": true,
   "sideBar": true,
   "skip_h1_title": false,
   "title_cell": "Table of Contents",
   "title_sidebar": "Contents",
   "toc_cell": false,
   "toc_position": {},
   "toc_section_display": true,
   "toc_window_display": true
  },
  "varInspector": {
   "cols": {
    "lenName": 16,
    "lenType": 16,
    "lenVar": 40
   },
   "kernels_config": {
    "python": {
     "delete_cmd_postfix": "",
     "delete_cmd_prefix": "del ",
     "library": "var_list.py",
     "varRefreshCmd": "print(var_dic_list())"
    },
    "r": {
     "delete_cmd_postfix": ") ",
     "delete_cmd_prefix": "rm(",
     "library": "var_list.r",
     "varRefreshCmd": "cat(var_dic_list()) "
    }
   },
   "types_to_exclude": [
    "module",
    "function",
    "builtin_function_or_method",
    "instance",
    "_Feature"
   ],
   "window_display": false
  }
 },
 "nbformat": 4,
 "nbformat_minor": 4
}
